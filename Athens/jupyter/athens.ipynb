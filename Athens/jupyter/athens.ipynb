{
 "cells": [
  {
   "cell_type": "markdown",
   "id": "3aeefd00-b5cf-49f2-b7e2-91313cde50f1",
   "metadata": {},
   "source": [
    "# Athens 2024 - ML lab instructions\n",
    "\n",
    "**Objectives**\n",
    "- Learn some basic Data Science using Python\n",
    "- Hands on ML Classification using the Titanic Dataset\n",
    "- Experience prompt engineering\n",
    "\n",
    "**Remember**\n",
    "\n",
    "Cheating is always a possibility but really boring and you will not learn anything.\n",
    "\n",
    "\n",
    "**Instructions / clues**\n",
    "\n",
    "Using ChatGPT and Google Colab follow the instructions bellow and try to answer the questions to the best of your ability.\n",
    "\n",
    "Ask questions like:\n",
    "- Using a Pandas Data Frame, how do I ...?\n",
    "- In Python, how can I ...?\n",
    "\n",
    "\n"
   ]
  },
  {
   "cell_type": "code",
   "execution_count": null,
   "id": "c2c00160-a141-480b-93b6-e42c4184aa28",
   "metadata": {},
   "outputs": [],
   "source": []
  },
  {
   "cell_type": "markdown",
   "id": "73428137-174a-4f1a-a3d0-8edcbcb3e1f9",
   "metadata": {},
   "source": [
    "# 1. Load the Titanic Dataset into a Pandas Data frame\n",
    "\n",
    "https://raw.githubusercontent.com/erikhedb/ML_AI_Labs/main/Athens/datasets/titanic_all.csv\n",
    "\n",
    "Analyze the dataset\n",
    "- What are the data types?\n",
    "- Should we cast to proper types? Why? How?\n",
    "- What simple ways can we show information about the dataset\n",
    "- Plot the ages in a histogram\n",
    "- Make a guess of the most important aspects for survival\n",
    "- What does sibsp\tand parch mean?\n",
    "- In the group - reflect on the dataset"
   ]
  },
  {
   "cell_type": "code",
   "execution_count": null,
   "id": "aa74e517-b7d9-43c9-84cc-03b730302383",
   "metadata": {},
   "outputs": [],
   "source": []
  },
  {
   "cell_type": "markdown",
   "id": "308cf1f3-bfe4-4dcf-afe4-64857fe01f7c",
   "metadata": {},
   "source": [
    "# 2. More data analysis\n",
    "\n",
    "- How can we figure out whos crew and not?\n",
    "- Plot the genders in a bar graph showing how many survived or not\n",
    "- Can we pivot, and count the number of crew vs passengers?\n",
    "- What does the column Embarked mean?\n",
    "- List the number of passengers per country and no of survivors\n",
    "- How many Swedish passengers survived and what class where they traveling?\n",
    "-- Use a Pandas Pivot\n"
   ]
  },
  {
   "cell_type": "code",
   "execution_count": null,
   "id": "342c6333-fc7c-44e1-b3ac-27a0082ea779",
   "metadata": {},
   "outputs": [],
   "source": []
  },
  {
   "cell_type": "markdown",
   "id": "7985af7d-058e-496b-a46f-37b6b0e060b4",
   "metadata": {},
   "source": [
    "# 3. Prepare the data for Machine Learning using Classification\n",
    "\n",
    "- Start with a new clean dataset - Reload from URL\n",
    "- How must we prepare the data for ML tasks?\n",
    "- Drop the name column - keep it simple and don't care about it\n",
    "- Handle NaN / Null values - We cant have them when we run our classification\n",
    " - There is a nice way to list all empty fields - isna().toList()\n",
    "\n",
    "- Split the dataset into a 80/20 train and test set\n",
    "\n",
    "`X_train, X_test, y_train, y_test = XXXX`\n",
    "\n",
    "- Last, check the shape of the data frames Should be:\n",
    " - Shape of X_train: (1765, 8)\n",
    " - Shape of y_train: (1765,)\n",
    " - Shape of X_test: (442, 8)\n",
    " - Shape of y_test: (442,)\n",
    "\n",
    "- Why do we use a uppercase X and lowercase y?"
   ]
  },
  {
   "cell_type": "code",
   "execution_count": null,
   "id": "aa362ab1-0ac3-44d2-b03c-a489149dda39",
   "metadata": {},
   "outputs": [],
   "source": []
  },
  {
   "cell_type": "markdown",
   "id": "4783301f-e5e1-45fc-9f40-54727affa64b",
   "metadata": {},
   "source": [
    "# 4. Classification using Scikit Learn\n",
    "\n",
    "- Using DecisionTreeClassifier from sklearn run the classification\n",
    "- Is there a way to test for optimal parameters?\n",
    "- Fit for the best max depth and print the tree to the screen\n",
    "\n",
    "\n",
    "```\n",
    "sklearn.tree import plot_tree export_text\n",
    "```\n",
    "\n",
    "- Analyse the printed tree, any conclusions?\n",
    "\n",
    "- List feature importance\n",
    "```\n",
    "# Extract feature importances\n",
    "feature_importances = clf.feature_importances_\n",
    "```\n",
    "How does this match your predictions?\n",
    "\n",
    "\n"
   ]
  },
  {
   "cell_type": "code",
   "execution_count": null,
   "id": "3ffa03f9-d277-4cf8-a144-318df45f001f",
   "metadata": {},
   "outputs": [],
   "source": []
  },
  {
   "cell_type": "markdown",
   "id": "1030fa96-cd75-4408-8765-ce7d114cdb33",
   "metadata": {},
   "source": [
    "# 5. Evaluation and Conclusions\n",
    "\n",
    "- How does the accuracy_score() work?\n",
    "\n",
    "- Can we further improve the accuracy?\n",
    "- Look at the Keggle Competition for hints - Something with the name?\n",
    "\n",
    "**Extra points**\n",
    "- Grab some code and see how much we can improve\n",
    "- Create a new column with title, Mr, Mrs etc\n",
    "\n",
    "- What is the best Keggle score and how was it acceived?\n",
    "\n",
    "- What is normalizeing and can it improve our score?\n",
    "\n"
   ]
  },
  {
   "cell_type": "code",
   "execution_count": null,
   "id": "59a5a3c5-dfaa-41b3-833b-3cb909f64c4d",
   "metadata": {},
   "outputs": [],
   "source": []
  }
 ],
 "metadata": {
  "kernelspec": {
   "display_name": "Python 3 (ipykernel)",
   "language": "python",
   "name": "python3"
  },
  "language_info": {
   "codemirror_mode": {
    "name": "ipython",
    "version": 3
   },
   "file_extension": ".py",
   "mimetype": "text/x-python",
   "name": "python",
   "nbconvert_exporter": "python",
   "pygments_lexer": "ipython3",
   "version": "3.11.8"
  }
 },
 "nbformat": 4,
 "nbformat_minor": 5
}
