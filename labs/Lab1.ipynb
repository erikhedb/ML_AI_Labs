{
 "cells": [
  {
   "attachments": {},
   "cell_type": "markdown",
   "id": "22d00e08-d0f4-4794-86a4-c62fa0721e61",
   "metadata": {},
   "source": [
    "## Lab 1 - KNN - k nearest neighbor\n",
    "\n",
    "In this lab we will explore the KNN algorithm used for classification.\n",
    "\n",
    "-\tGiven a classified data set X \n",
    "-\tCalculate the distance to the unclassified point p\n",
    "-\tPick the k nearest points in X\n",
    "-\tClassify p as the mean classification of the k-points\n",
    "-\tCalculate the quality as a percentage of the k-points belonging to the same class\n",
    "\n",
    "The last åary\n"
   ]
  },
  {
   "cell_type": "code",
   "execution_count": 2,
   "id": "de35742e-7311-42d9-ae2f-5f57b464832c",
   "metadata": {},
   "outputs": [
    {
     "name": "stdout",
     "output_type": "stream",
     "text": [
      "-------- DATA -------\n",
      "X_train: (120, 4) - float64\n",
      "y_train: (120,) - float64\n",
      "X_test: (30, 4) - float64\n",
      "y_test: (30,) - float64\n",
      "----------------------\n",
      "Acc: 1.0\n",
      "X_prod: (1, 4) - float64 - First: [[5.1 0.6 3.  0.6]]\n",
      "X_train: (4, 4) - float64 - First: [[5.5 2.4 3.7 1. ]]\n",
      "[1]\n"
     ]
    },
    {
     "data": {
      "text/plain": [
       "<matplotlib.collections.PathCollection at 0x17d8bbdd0>"
      ]
     },
     "execution_count": 2,
     "metadata": {},
     "output_type": "execute_result"
    },
    {
     "data": {
      "image/png": "[encoded data removed]",
      "text/plain": [
       "<Figure size 640x480 with 1 Axes>"
      ]
     },
     "metadata": {},
     "output_type": "display_data"
    }
   ],
   "source": [
    "import numpy as np\n",
    "import matplotlib.pyplot as plt\n",
    "from collections import Counter\n",
    "from sklearn import datasets\n",
    "from sklearn.model_selection import train_test_split\n",
    "from matplotlib.colors import ListedColormap\n",
    "\n",
    "def euclidean_distance(x1, x2):\n",
    "    distance = np.sqrt(np.sum((x1-x2)**2))\n",
    "    return distance\n",
    "\n",
    "class KNN:\n",
    "    def __init__(self, k=3):\n",
    "        self.k = k\n",
    "\n",
    "    def fit(self, X, y):\n",
    "        self.X_train = X\n",
    "        self.y_train = y\n",
    "\n",
    "    def predict(self, X):\n",
    "        predictions = [self._predict(x) for x in X]\n",
    "        return predictions\n",
    "\n",
    "    def _predict(self, x):\n",
    "        # compute the distance\n",
    "        distances = [euclidean_distance(x, x_train) for x_train in self.X_train]\n",
    "    \n",
    "        # get the closest k\n",
    "        k_indices = np.argsort(distances)[:self.k]\n",
    "        k_nearest_labels = [self.y_train[i] for i in k_indices]\n",
    "\n",
    "        # majority voye\n",
    "        most_common = Counter(k_nearest_labels).most_common()\n",
    "        return most_common[0][0]\n",
    "\n",
    "\n",
    "# Color schema for our three classe\n",
    "cmap = ListedColormap(['#FF0000','#00FF00','#0000FF'])\n",
    "\n",
    "# Iris dataset\n",
    "iris = datasets.load_iris()\n",
    "X, y = iris.data, iris.target\n",
    "\n",
    "\n",
    "X_train, X_test, y_train, y_test = train_test_split(X, y, test_size=0.2, random_state=100)\n",
    "#print(X_train)\n",
    "\n",
    "print(\"-------- DATA -------\")\n",
    "print(f\"X_train: {X_train.shape} - {X_train.dtype}\")\n",
    "print(f\"y_train: {y_train.shape} - {X_train.dtype}\")\n",
    "print(f\"X_test: {X_test.shape} - {X_train.dtype}\")\n",
    "print(f\"y_test: {y_test.shape} - {X_train.dtype}\")\n",
    "print(\"----------------------\")\n",
    "\n",
    "##########\n",
    "# Print the train data to get some understanding\n",
    "plt.scatter(X_train[:,2],X_train[:,3], c=y_train, cmap=cmap, s=20)\n",
    "\n",
    "# Run the algo to calculate the nearest k and predict the text data\n",
    "clf = KNN(k=5)\n",
    "clf.fit(X_train, y_train)\n",
    "\n",
    "#########\n",
    "# Predict the test data\n",
    "predictions = clf.predict(X_test)\n",
    "plt.scatter(X_test[:,2],X_test[:,3], c=y_test,marker='x', cmap=cmap, s=20)\n",
    "\n",
    "##########\n",
    "# Calculate the quality - Will be a adding of booleans and the quota of how many correct classes where set\n",
    "acc = np.sum(predictions == y_test) / len(y_test)\n",
    "print(f\"Acc: {acc}\")\n",
    "\n",
    "\n",
    "##########\n",
    "# Test a single prod calculation - as a simulation of this being a real live example\n",
    "X_prod = np.array([[5.1,0.6,3.,.6]])\n",
    "print(f\"X_prod: {X_prod.shape} - {X_prod.dtype} - First: {X_prod[0:1]}\")\n",
    "print(f\"X_train: {X_train[0:4].shape} - {X_prod.dtype} - First: {X_train[0:1]}\")\n",
    "\n",
    "predictions = clf.predict(X_prod)\n",
    "print(predictions)\n",
    "\n",
    "#Plot our prod classification\n",
    "plt.scatter(X_prod[:,2],X_prod[:,3],c=predictions,marker='d',cmap=cmap,s=40)\n",
    "\n"
   ]
  },
  {
   "cell_type": "code",
   "execution_count": null,
   "id": "b495db79-c5a2-48d8-a354-9887d46372b6",
   "metadata": {},
   "outputs": [],
   "source": []
  }
 ],
 "metadata": {
  "kernelspec": {
   "display_name": "Python 3 (ipykernel)",
   "language": "python",
   "name": "python3"
  },
  "language_info": {
   "codemirror_mode": {
    "name": "ipython",
    "version": 3
   },
   "file_extension": ".py",
   "mimetype": "text/x-python",
   "name": "python",
   "nbconvert_exporter": "python",
   "pygments_lexer": "ipython3",
   "version": "3.11.8"
  }
 },
 "nbformat": 4,
 "nbformat_minor": 5
}
