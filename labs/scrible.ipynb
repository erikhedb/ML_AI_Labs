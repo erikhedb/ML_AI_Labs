{
 "cells": [
  {
   "cell_type": "markdown",
   "id": "a83416a1-f127-47ae-a822-5aad61b11e07",
   "metadata": {},
   "source": [
    "### This jupyter scrible page \n",
    "Use it to test code and not to clutter the labs"
   ]
  },
  {
   "cell_type": "code",
   "execution_count": null,
   "id": "85082432-42eb-498d-a224-62e8fb63d4e3",
   "metadata": {},
   "outputs": [],
   "source": []
  }
 ],
 "metadata": {
  "kernelspec": {
   "display_name": "Python 3 (ipykernel)",
   "language": "python",
   "name": "python3"
  },
  "language_info": {
   "codemirror_mode": {
    "name": "ipython",
    "version": 3
   },
   "file_extension": ".py",
   "mimetype": "text/x-python",
   "name": "python",
   "nbconvert_exporter": "python",
   "pygments_lexer": "ipython3",
   "version": "3.11.8"
  }
 },
 "nbformat": 4,
 "nbformat_minor": 5
}
