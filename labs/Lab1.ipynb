{
 "cells": [
  {
   "attachments": {},
   "cell_type": "markdown",
   "id": "22d00e08-d0f4-4794-86a4-c62fa0721e61",
   "metadata": {},
   "source": [
    "## Lab 1 - KNN - k nearest neighbor\n",
    "\n",
    "In this lab we will explore the KNN algorithm used for classification.\n",
    "\n",
    "-\tGiven a classified data set X \n",
    "-\tCalculate the distance to the unclassified point p\n",
    "-\tPick the k nearest points in X\n",
    "-\tClassify p as the mean classification of the k-points\n",
    "-\tCalculate the quality as a percentage of the k-points belonging to the same class\n"
   ]
  },
  {
   "cell_type": "code",
   "execution_count": null,
   "id": "de35742e-7311-42d9-ae2f-5f57b464832c",
   "metadata": {},
   "outputs": [],
   "source": []
  }
 ],
 "metadata": {
  "kernelspec": {
   "display_name": "Python 3 (ipykernel)",
   "language": "python",
   "name": "python3"
  },
  "language_info": {
   "codemirror_mode": {
    "name": "ipython",
    "version": 3
   },
   "file_extension": ".py",
   "mimetype": "text/x-python",
   "name": "python",
   "nbconvert_exporter": "python",
   "pygments_lexer": "ipython3",
   "version": "3.11.8"
  }
 },
 "nbformat": 4,
 "nbformat_minor": 5
}
